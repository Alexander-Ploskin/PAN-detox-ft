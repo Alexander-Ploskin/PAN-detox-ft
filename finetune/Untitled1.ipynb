{
 "cells": [
  {
   "cell_type": "code",
   "execution_count": 2,
   "id": "33d89cfd-8d4d-474d-984a-c42611a3036c",
   "metadata": {},
   "outputs": [
    {
     "data": {
      "application/vnd.jupyter.widget-view+json": {
       "model_id": "3b8652a6f87649aeb6c4417682860942",
       "version_major": 2,
       "version_minor": 0
      },
      "text/plain": [
       "Generating train split: 0 examples [00:00, ? examples/s]"
      ]
     },
     "metadata": {},
     "output_type": "display_data"
    }
   ],
   "source": [
    "from datasets import load_dataset\n",
    "dataset = load_dataset('cleaned', data_files='paradetox_filtered_by_sim_0.8882.csv', split = 'train')"
   ]
  },
  {
   "cell_type": "code",
   "execution_count": 3,
   "id": "70515c6f-8bc4-4d7c-a5a5-774b9a072ab3",
   "metadata": {},
   "outputs": [
    {
     "data": {
      "text/plain": [
       "{'Unnamed: 0.1': 1,\n",
       " 'Unnamed: 0': 1,\n",
       " 'toxic_sentence': \"My page should be protected first so that worthless scum like you can't keep vandalizing it.\",\n",
       " 'references': \"My page should be protected first so that unpleasant people like you can't keep vandalizing it.\",\n",
       " 'neutral_sentence': \"My page should be protected first so that unpleasant people like you can't keep vandalizing it.\",\n",
       " 'lang': 'en',\n",
       " 'J': 0.9357824979353146,\n",
       " 'STA': 1.0,\n",
       " 'SIM': 0.9662367929886816,\n",
       " 'XCOMET': 0.9684815406799316}"
      ]
     },
     "execution_count": 3,
     "metadata": {},
     "output_type": "execute_result"
    }
   ],
   "source": [
    "dataset[0]"
   ]
  }
 ],
 "metadata": {
  "kernelspec": {
   "display_name": "Python 3 (ipykernel)",
   "language": "python",
   "name": "python3"
  },
  "language_info": {
   "codemirror_mode": {
    "name": "ipython",
    "version": 3
   },
   "file_extension": ".py",
   "mimetype": "text/x-python",
   "name": "python",
   "nbconvert_exporter": "python",
   "pygments_lexer": "ipython3",
   "version": "3.10.12"
  }
 },
 "nbformat": 4,
 "nbformat_minor": 5
}
